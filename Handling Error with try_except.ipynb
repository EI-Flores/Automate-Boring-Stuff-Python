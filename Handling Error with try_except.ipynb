{
 "cells": [
  {
   "cell_type": "code",
   "execution_count": null,
   "metadata": {},
   "outputs": [],
   "source": [
    "def div4by(divideBy): \n",
    "    try: # try to run the code\n",
    "        return 4/divideBy # if it works, return the result\n",
    "    except ZeroDivisionError: # if it doesn't work, run this code\n",
    "        print('Error: Invalid argument.') # print this message"
   ]
  },
  {
   "cell_type": "code",
   "execution_count": null,
   "metadata": {},
   "outputs": [],
   "source": [
    "print(div4by(2)) # call the function\n",
    "print(div4by(0)) # call the function\n",
    "print(div4by(4)) # call the function\n",
    "print(div4by(5)) # call the function\n",
    "print(div4by(6)) # call the function"
   ]
  },
  {
   "cell_type": "code",
   "execution_count": null,
   "metadata": {},
   "outputs": [],
   "source": [
    "print('How many cats do you have?')\n",
    "numCats = input()\n",
    "try:\n",
    "    if int(numCats) >= 4:\n",
    "        print('That is a lot of cats.')\n",
    "    else:\n",
    "        print('That is not that many cats.')\n",
    "except ValueError:\n",
    "    print('You did not enter a number')"
   ]
  },
  {
   "cell_type": "code",
   "execution_count": null,
   "metadata": {},
   "outputs": [],
   "source": [
    "# Path: Handling Error with try_except.ipynb\n",
    "def getNum():\n",
    "    while True:\n",
    "        try:\n",
    "            num = int(input('Enter a number: '))\n",
    "        except ValueError:\n",
    "            print('Invalid input. Try again.')\n",
    "            continue\n",
    "        else:\n",
    "            print('You entered', num)\n",
    "            break\n",
    "        finally:\n",
    "            print('Finally block executed.')\n",
    "            "
   ]
  },
  {
   "cell_type": "code",
   "execution_count": null,
   "metadata": {},
   "outputs": [],
   "source": [
    "getNum()"
   ]
  }
 ],
 "metadata": {
  "interpreter": {
   "hash": "38740d3277777e2cd7c6c2cc9d8addf5118fdf3f82b1b39231fd12aeac8aee8b"
  },
  "kernelspec": {
   "display_name": "Python 3.9.9 64-bit",
   "language": "python",
   "name": "python3"
  },
  "language_info": {
   "codemirror_mode": {
    "name": "ipython",
    "version": 3
   },
   "file_extension": ".py",
   "mimetype": "text/x-python",
   "name": "python",
   "nbconvert_exporter": "python",
   "pygments_lexer": "ipython3",
   "version": "3.9.9"
  },
  "orig_nbformat": 4
 },
 "nbformat": 4,
 "nbformat_minor": 2
}
