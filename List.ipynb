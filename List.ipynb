{
 "cells": [
  {
   "cell_type": "markdown",
   "metadata": {},
   "source": [
    "- List data type"
   ]
  },
  {
   "cell_type": "code",
   "execution_count": null,
   "metadata": {},
   "outputs": [],
   "source": [
    "listSpam = ['apples', 'bananas', 'tofu', 'cats']\n",
    "print (listSpam[1]) # 'bananas'\n",
    "print (listSpam[-1]) # 'cats'\n",
    "print (listSpam[-3]) # 'apples' \n",
    "print (listSpam[2:]) # ['tofu', 'cats']\n",
    "print (listSpam[:2]) # ['apples', 'bananas']\n",
    "print (listSpam[1:3]) # ['bananas', 'tofu']\n",
    "\n"
   ]
  },
  {
   "cell_type": "code",
   "execution_count": null,
   "metadata": {},
   "outputs": [],
   "source": [
    "listSpam2 = ['cats', 'dogs', 'moose', 'elephants']\n",
    "print ('The ' + listSpam2[-1] + ' is afraid of the ' + listSpam2[-2])"
   ]
  },
  {
   "cell_type": "markdown",
   "metadata": {},
   "source": [
    "- Slices"
   ]
  },
  {
   "cell_type": "code",
   "execution_count": null,
   "metadata": {},
   "outputs": [],
   "source": [
    "spam = 'Hello'\n",
    "print(spam) # 'Hello'\n",
    "spam = [10,20,30]\n",
    "spam[1] = 'Hello' # change the value of the second element\n",
    "print(spam) # [10, 'Hello', 30]\n",
    "\n",
    "spam[1:3] = ['Cat', 'Dog', 'Mouse'] # change the value of the second, third and fourth element\n",
    "print(spam) # [10, 'Cat', 'Dog, 'Mouse']"
   ]
  },
  {
   "cell_type": "code",
   "execution_count": null,
   "metadata": {},
   "outputs": [],
   "source": [
    "spam = ['Cat', 'Bat', 'Rat', 'Elephant']\n",
    "print(spam[:2]) # ['Cat', 'Bat']\n",
    "print(spam[2:]) # ['Rat', 'Elephant']"
   ]
  },
  {
   "cell_type": "markdown",
   "metadata": {},
   "source": [
    "- del Statements"
   ]
  },
  {
   "cell_type": "code",
   "execution_count": null,
   "metadata": {},
   "outputs": [],
   "source": [
    "spam = ['Cat', 'Bat', 'Rat', 'Elephant']\n",
    "del spam[2] # delete the third element\n",
    "print(spam) # ['Cat', 'Bat', 'Elephant']\n",
    "del spam[1:3] # delete the second, third and fourth element\n",
    "print(spam) # ['Cat', 'Elephant']"
   ]
  },
  {
   "cell_type": "markdown",
   "metadata": {},
   "source": [
    "- String and List Similarities"
   ]
  },
  {
   "cell_type": "code",
   "execution_count": null,
   "metadata": {},
   "outputs": [],
   "source": [
    "print('Hello ' + 'world') # Hello world\n",
    "print([1,2,3] + [4,5,6]) # [1, 2, 3, 4, 5, 6]\n",
    "print(['Hello'] * 3) # ['Hello', 'Hello', 'Hello']\n",
    "print([1,2,3] * 3) # [1, 2, 3, 1, 2, 3, 1, 2, 3]"
   ]
  },
  {
   "cell_type": "markdown",
   "metadata": {},
   "source": [
    "- The list() Funtion"
   ]
  },
  {
   "cell_type": "code",
   "execution_count": null,
   "metadata": {},
   "outputs": [],
   "source": [
    "print(int('42')) # 42\n",
    "print(str(42)) # '42'\n",
    "list('Hello') # ['H', 'e', 'l', 'l', 'o']"
   ]
  },
  {
   "cell_type": "markdown",
   "metadata": {},
   "source": [
    "- The in and not in Operators"
   ]
  },
  {
   "cell_type": "code",
   "execution_count": null,
   "metadata": {},
   "outputs": [],
   "source": [
    "'howdy' in ['hello', 'hi', 'howdy', 'heyas'] # False"
   ]
  },
  {
   "cell_type": "code",
   "execution_count": null,
   "metadata": {},
   "outputs": [],
   "source": [
    "42 in [1,2,3,4] # True"
   ]
  },
  {
   "cell_type": "markdown",
   "metadata": {},
   "source": [
    "- Loops with List "
   ]
  },
  {
   "cell_type": "code",
   "execution_count": null,
   "metadata": {},
   "outputs": [],
   "source": [
    "for i in range(4):\n",
    "    print(i) # 0 1 2 3"
   ]
  },
  {
   "cell_type": "code",
   "execution_count": null,
   "metadata": {},
   "outputs": [],
   "source": [
    "range(4) # range(0, 4)"
   ]
  },
  {
   "cell_type": "code",
   "execution_count": null,
   "metadata": {},
   "outputs": [],
   "source": [
    "for i in [0,1,2,3]:\n",
    "    print(i) # 0 1 2 3"
   ]
  },
  {
   "cell_type": "markdown",
   "metadata": {},
   "source": [
    "- List() function"
   ]
  },
  {
   "cell_type": "code",
   "execution_count": null,
   "metadata": {},
   "outputs": [],
   "source": [
    "print( list(range(4)) ) # [0, 1, 2, 3]"
   ]
  },
  {
   "cell_type": "code",
   "execution_count": null,
   "metadata": {},
   "outputs": [],
   "source": [
    "list(range(0, 100, 2)) "
   ]
  },
  {
   "cell_type": "code",
   "execution_count": null,
   "metadata": {},
   "outputs": [],
   "source": [
    "spam = list(range(0, 100, 2))\n",
    "print(spam) "
   ]
  },
  {
   "cell_type": "markdown",
   "metadata": {},
   "source": [
    "- for i in range(len(someList)):"
   ]
  },
  {
   "cell_type": "code",
   "execution_count": null,
   "metadata": {},
   "outputs": [],
   "source": [
    "supplies = ['pens', 'staplers', 'flame-throwers', 'binders']\n",
    "for i in range(len(supplies)):\n",
    "    print('Index ' + str(i) + ' in supplies is: ' + supplies[i])\n"
   ]
  },
  {
   "cell_type": "markdown",
   "metadata": {},
   "source": [
    "- Multiple Assignment"
   ]
  },
  {
   "cell_type": "code",
   "execution_count": null,
   "metadata": {},
   "outputs": [],
   "source": [
    "cat = ['fat', 'orange', 'loud']\n",
    "size = cat[0] \n",
    "color = cat[1]\n",
    "disposition = cat[1] \n",
    "\n",
    "size, color, disposition = cat # unpack the list\n",
    "\n",
    "print(size)\n",
    "print(color)\n",
    "print(disposition)"
   ]
  },
  {
   "cell_type": "markdown",
   "metadata": {},
   "source": [
    "- Swapping Variables"
   ]
  },
  {
   "cell_type": "code",
   "execution_count": null,
   "metadata": {},
   "outputs": [],
   "source": [
    "size, color, disposition = 'skinny', 'black', 'quiet'\n",
    "a = 'AAA'\n",
    "b = 'BBB'\n",
    "a, b = b, a # swap the values of a and b\n",
    "print(a)\n",
    "print(b)\n"
   ]
  },
  {
   "cell_type": "markdown",
   "metadata": {},
   "source": [
    "- Augmented Assignment Operators"
   ]
  },
  {
   "cell_type": "code",
   "execution_count": null,
   "metadata": {},
   "outputs": [],
   "source": [
    "spam = 42\n",
    "spam = spam + 1\n",
    "print(spam)\n",
    "spam += 1\n",
    "print(spam)\n",
    "\n",
    "#Augmented assignment statements       Equivalent assignment statements\n",
    "# spam += 1                 ---->           spam = spam + 1 \n",
    "# spam -= 1                 ---->           spam = spam - 1 \n",
    "# spam *= 1                 ---->           spam = spam * 1 \n",
    "# spam /= 1                 ---->           spam = spam / 1\n",
    "# spam %= 1                 ---->           spam = spam % 1"
   ]
  },
  {
   "cell_type": "markdown",
   "metadata": {},
   "source": [
    "- index(), append(), insert(), remove(), pop(), sort(), reverse()"
   ]
  },
  {
   "cell_type": "markdown",
   "metadata": {},
   "source": [
    "-- Methods"
   ]
  },
  {
   "cell_type": "code",
   "execution_count": null,
   "metadata": {},
   "outputs": [],
   "source": [
    "spam = ['hello', 'hi', 'howdy', 'heyas']\n",
    "spam.index('hello') # 0\n",
    "spam.index('heyas') # 3\n"
   ]
  },
  {
   "cell_type": "code",
   "execution_count": null,
   "metadata": {},
   "outputs": [],
   "source": [
    "spam = ['Zophie', 'Pooka', 'Fat-tail', 'Pooka']\n",
    "spam.index('Pooka') # 1\n"
   ]
  },
  {
   "cell_type": "code",
   "execution_count": null,
   "metadata": {},
   "outputs": [],
   "source": [
    "spam = ['cat', 'dog', 'bat']\n",
    "spam.append('moose')\n",
    "print(spam) # ['cat', 'dog', 'bat', 'moose']"
   ]
  },
  {
   "cell_type": "code",
   "execution_count": null,
   "metadata": {},
   "outputs": [],
   "source": [
    "spam = ['pens', 'staplers', 'flame-throwers', 'binders']\n",
    "spam.insert(1, 'bookmarks') # insert 'bookmarks' at index 1\n",
    "print(spam) # ['pens', 'bookmarks', 'staplers', 'flame-throwers', 'binders']"
   ]
  },
  {
   "cell_type": "code",
   "execution_count": null,
   "metadata": {},
   "outputs": [],
   "source": [
    "spam = ['staplers', 'pens', 'flame-throwers', 'binders']\n",
    "spam.remove('pens') # remove the first instance of 'pens'\n",
    "print(spam) # ['staplers', 'flame-throwers', 'binders']"
   ]
  },
  {
   "cell_type": "code",
   "execution_count": null,
   "metadata": {},
   "outputs": [],
   "source": [
    "spam = ['orange', 'apple', 'pear', 'banana', 'apple', 'orange', 'apple']\n",
    "spam.pop() # remove the last element\n",
    "print(spam) # ['orange', 'apple', 'pear', 'banana']"
   ]
  },
  {
   "cell_type": "code",
   "execution_count": null,
   "metadata": {},
   "outputs": [],
   "source": [
    "spam = ['Zophie', 'Pooka', 'Fat-tail', 'Pooka']\n",
    "spam.sort() # sort the list\n",
    "print(spam) # ['Fat-tail', 'Pooka', 'Pooka', 'Zophie']"
   ]
  },
  {
   "cell_type": "code",
   "execution_count": null,
   "metadata": {},
   "outputs": [],
   "source": [
    "spam = ['Zophie', 'Pooka', 'Fat-tail', 'Pooka']\n",
    "spam.sort(key=str.lower) # sort the list, case-insensitive\n",
    "print(spam) # ['Fat-tail', 'Pooka', 'Pooka', 'Zophie']"
   ]
  },
  {
   "cell_type": "code",
   "execution_count": null,
   "metadata": {},
   "outputs": [],
   "source": [
    "spam = ['mouse', 'rat', 'elephant', 'cat']\n",
    "spam.reverse() # reverse the list\n",
    "print(spam) # ['cat', 'elephant', 'rat', 'mouse']"
   ]
  },
  {
   "cell_type": "markdown",
   "metadata": {},
   "source": [
    "- Similarities between List and Strings"
   ]
  },
  {
   "cell_type": "code",
   "execution_count": null,
   "metadata": {},
   "outputs": [],
   "source": [
    "list(\"Hello\") # ['H', 'e', 'l', 'l', 'o']"
   ]
  },
  {
   "cell_type": "code",
   "execution_count": null,
   "metadata": {},
   "outputs": [],
   "source": [
    "name = 'Zophie'\n",
    "print(name[0]) # 'Z'\n",
    "print(name[4]) # 'i'\n",
    "print(name[-2]) # 'i'\n",
    "print(name[0:4]) # 'Zoph'\n",
    "print(name[:4]) # 'Zoph'\n",
    "print(name[4:]) # 'ie'\n",
    "'Zo' in name # True\n",
    "'poo' in name # False"
   ]
  },
  {
   "cell_type": "code",
   "execution_count": null,
   "metadata": {},
   "outputs": [],
   "source": [
    "for letter in name:\n",
    "    print(letter) # 'Z', 'o', 'p', 'h', 'i', 'e'"
   ]
  },
  {
   "cell_type": "markdown",
   "metadata": {},
   "source": [
    "- Mutable and Immutable Data Types"
   ]
  },
  {
   "cell_type": "code",
   "execution_count": null,
   "metadata": {},
   "outputs": [],
   "source": [
    "name = 'Zophie a cat'\n",
    "name[7] # 'a'"
   ]
  },
  {
   "cell_type": "markdown",
   "metadata": {},
   "source": [
    "- Creating new Strings from slices"
   ]
  },
  {
   "cell_type": "code",
   "execution_count": null,
   "metadata": {},
   "outputs": [],
   "source": [
    "name = 'zophie a cat'\n",
    "newName = name[0:7] + 'the' + name[8:12] # 'zophie the cat'\n",
    "newName"
   ]
  },
  {
   "cell_type": "markdown",
   "metadata": {},
   "source": [
    "- Passing List in Functions calls"
   ]
  },
  {
   "cell_type": "code",
   "execution_count": null,
   "metadata": {},
   "outputs": [],
   "source": [
    "def eggs(someParameter):\n",
    "    someParameter.append('Hello')\n",
    "\n",
    "spam = [1, 2, 3]\n",
    "eggs(spam)\n",
    "print(spam) # [1, 2, 3, 'Hello']"
   ]
  },
  {
   "cell_type": "markdown",
   "metadata": {},
   "source": [
    "- The copy.deepcopy() Function"
   ]
  },
  {
   "cell_type": "code",
   "execution_count": null,
   "metadata": {},
   "outputs": [],
   "source": [
    "import copy\n",
    "spam = ['A', 'B', 'C', 'D']\n",
    "cheese = copy.deepcopy(spam) \n",
    "\n",
    "cheese [1] = 42\n",
    "print(cheese) # ['A', 42, 'C', 'D']\n",
    "print(spam) # ['A', 'B', 'C', 'D']"
   ]
  },
  {
   "cell_type": "markdown",
   "metadata": {},
   "source": [
    "- Line continuation"
   ]
  },
  {
   "cell_type": "code",
   "execution_count": null,
   "metadata": {},
   "outputs": [],
   "source": [
    "spam = ['apples',\n",
    "        'bananas',\n",
    "        'tofu',\n",
    "        'cats']\n",
    "\n",
    "print('Four score and seven' + \\\n",
    "      ' years ago...') # Four score and seven years ago...\n",
    "print('Four score and seven' + ' years ago...') # Four score and seven years ago..."
   ]
  }
 ],
 "metadata": {
  "interpreter": {
   "hash": "38740d3277777e2cd7c6c2cc9d8addf5118fdf3f82b1b39231fd12aeac8aee8b"
  },
  "kernelspec": {
   "display_name": "Python 3.9.9 64-bit",
   "language": "python",
   "name": "python3"
  },
  "language_info": {
   "codemirror_mode": {
    "name": "ipython",
    "version": 3
   },
   "file_extension": ".py",
   "mimetype": "text/x-python",
   "name": "python",
   "nbconvert_exporter": "python",
   "pygments_lexer": "ipython3",
   "version": "3.9.9"
  },
  "orig_nbformat": 4
 },
 "nbformat": 4,
 "nbformat_minor": 2
}
