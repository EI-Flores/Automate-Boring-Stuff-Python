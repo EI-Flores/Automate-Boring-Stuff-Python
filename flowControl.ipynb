{
 "cells": [
  {
   "cell_type": "markdown",
   "metadata": {},
   "source": [
    "# Remember\n",
    "\n",
    "The Boolean data type has only two values:\n",
    "True and False (both beginning with capital letters).\n",
    "Comparison operators compare two values and evaluate to a Boolean value:\n",
    "==, !=, <, >, <=, >=\n",
    "\n",
    "== is a comparison operator, while = is the assignment operator for variables.\n",
    "\n",
    "Boolean operators (and, or, not) also evaluate to Boolean values."
   ]
  },
  {
   "cell_type": "markdown",
   "metadata": {},
   "source": [
    "# If-elif-else statements"
   ]
  },
  {
   "cell_type": "code",
   "execution_count": null,
   "metadata": {},
   "outputs": [],
   "source": [
    "## If statements\n",
    "\n",
    "name = 'John'\n",
    "if name == 'John':\n",
    "    print('Hello, ' + name)"
   ]
  },
  {
   "cell_type": "code",
   "execution_count": null,
   "metadata": {},
   "outputs": [],
   "source": [
    "## If-else statements\n",
    "\n",
    "password = '12345'\n",
    "if password == '12345':\n",
    "    print('Access granted')\n",
    "else:\n",
    "    print('Wrong password')"
   ]
  },
  {
   "cell_type": "code",
   "execution_count": null,
   "metadata": {},
   "outputs": [],
   "source": [
    "## If-else statements with multiple conditions\n",
    "name = 'John'\n",
    "age = 23\n",
    "if name == 'John' and age == 23: # and is a boolean operator\n",
    "    print('Your name is John, and you are 23 years old.')\n",
    "else: # if the first condition is not met, the second condition is evaluated\n",
    "    print('Your name is not John, or you are not 23 years old.')    "
   ]
  },
  {
   "cell_type": "code",
   "execution_count": null,
   "metadata": {},
   "outputs": [],
   "source": [
    "## If-elif-else statements\n",
    "\n",
    "name = 'John'\n",
    "age = 23\n",
    "if name == 'John':\n",
    "    print('hi ' + name)\n",
    "elif age < 18: \n",
    "    print('You are a teenager')\n",
    "elif age > 18:\n",
    "    print('You are an adult')\n",
    "elif age > 100:\n",
    "    print('You are a senior citizen')\n",
    "else:\n",
    "    print('You are neither a teenager nor an adult')"
   ]
  },
  {
   "cell_type": "markdown",
   "metadata": {},
   "source": [
    "# Loops\n",
    "- if you want cancel the loop, use break or 'Ctrl + C'"
   ]
  },
  {
   "cell_type": "code",
   "execution_count": null,
   "metadata": {},
   "outputs": [],
   "source": [
    "## For loops\n",
    "\n",
    "spam = 0\n",
    "while spam < 5:\n",
    "    print('Whats up?')\n",
    "    spam = spam + 1\n"
   ]
  },
  {
   "cell_type": "code",
   "execution_count": null,
   "metadata": {},
   "outputs": [],
   "source": [
    "name = ''\n",
    "while name != 'your name':\n",
    "    print('Please type your name.')\n",
    "    name = input()\n",
    "print('Thank you!')"
   ]
  },
  {
   "cell_type": "markdown",
   "metadata": {},
   "source": [
    "# Continue statement\n",
    "- A continue statement causes the execution of the current iteration to be skipped, and the next iteration to be executed."
   ]
  },
  {
   "cell_type": "code",
   "execution_count": null,
   "metadata": {},
   "outputs": [],
   "source": [
    "spam = 0\n",
    "while spam < 5:\n",
    "    spam = spam + 1\n",
    "    if spam == 3:\n",
    "        continue\n",
    "    print('spam is ' + str(spam))"
   ]
  },
  {
   "cell_type": "markdown",
   "metadata": {},
   "source": [
    "# For loops"
   ]
  },
  {
   "cell_type": "code",
   "execution_count": null,
   "metadata": {},
   "outputs": [],
   "source": [
    "print('My name is') # This will not be printed\n",
    "for i in range(5): # This will be printed 5 times, each time with a different value of i\n",
    "    print('Jimmy Five Times (' + str(i) + ')') # This will be printed 5 times"
   ]
  },
  {
   "cell_type": "code",
   "execution_count": null,
   "metadata": {},
   "outputs": [],
   "source": [
    "total = 0 # This will be printed once\n",
    "for i in range(101): # This will be printed 101 times, each time with a different value of i\n",
    "    total = total + i # This will be printed 101 times\n",
    "print(total)"
   ]
  },
  {
   "cell_type": "code",
   "execution_count": null,
   "metadata": {},
   "outputs": [],
   "source": [
    "print('My name is') # This will not be printed\n",
    "i = 0 # This will be printed once\n",
    "for i in range(13, 20)  # This print the numbers 13 to 20\n",
    "    print('Jimmy Five Times (' + str(i) + ')') # This will be printed"
   ]
  },
  {
   "cell_type": "code",
   "execution_count": null,
   "metadata": {},
   "outputs": [],
   "source": [
    "print ('My name is') # This will not be printed\n",
    "for i in range(5, 10, 2): # This will print the numbers 5 to 10, with a step of 2\n",
    "    print('Jimmy Five Times (' + str(i) + ')') # This will be printed"
   ]
  }
 ],
 "metadata": {
  "language_info": {
   "name": "python"
  },
  "orig_nbformat": 4
 },
 "nbformat": 4,
 "nbformat_minor": 2
}
